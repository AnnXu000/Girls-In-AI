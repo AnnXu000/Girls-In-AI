{
  "nbformat": 4,
  "nbformat_minor": 0,
  "metadata": {
    "colab": {
      "name": "Welcome To Colaboratory",
      "provenance": [],
      "collapsed_sections": [],
      "include_colab_link": true
    },
    "kernelspec": {
      "display_name": "Python 3",
      "name": "python3"
    }
  },
  "cells": [
    {
      "cell_type": "markdown",
      "metadata": {
        "id": "view-in-github",
        "colab_type": "text"
      },
      "source": [
        "<a href=\"https://colab.research.google.com/github/AnnXu000/Girls-In-AI/blob/master/Welcome_To_Colaboratory.ipynb\" target=\"_parent\"><img src=\"https://colab.research.google.com/assets/colab-badge.svg\" alt=\"Open In Colab\"/></a>"
      ]
    },
    {
      "cell_type": "markdown",
      "metadata": {
        "colab_type": "text",
        "id": "5fCEDCU_qrC0"
      },
      "source": [
        "<p><img alt=\"Colaboratory logo\" height=\"45px\" src=\"/img/colab_favicon.ico\" align=\"left\" hspace=\"10px\" vspace=\"0px\"></p>\n",
        "\n",
        "<h1>Welcome to Colaboratory!</h1>\n",
        "\n",
        "\n",
        "Colaboratory is a free Jupyter notebook environment that requires no setup and runs entirely in the cloud.\n",
        "\n",
        "With Colaboratory you can write and execute code, save and share your analyses, and access powerful computing resources, all for free from your browser."
      ]
    },
    {
      "cell_type": "code",
      "metadata": {
        "colab_type": "code",
        "id": "xitplqMNk_Hc",
        "outputId": "ed4f60d2-878d-4056-c438-352dac39a112",
        "colab": {
          "height": 420
        }
      },
      "source": [
        "#@title Introducing Colaboratory { display-mode: \"form\" }\n",
        "#@markdown This 3-minute video gives an overview of the key features of Colaboratory:\n",
        "from IPython.display import YouTubeVideo\n",
        "YouTubeVideo('inN8seMm7UI', width=600, height=400)"
      ],
      "execution_count": 0,
      "outputs": [
        {
          "output_type": "execute_result",
          "data": {
            "text/html": [
              "\n",
              "        <iframe\n",
              "            width=\"600\"\n",
              "            height=\"400\"\n",
              "            src=\"https://www.youtube.com/embed/inN8seMm7UI\"\n",
              "            frameborder=\"0\"\n",
              "            allowfullscreen\n",
              "        ></iframe>\n",
              "        "
            ],
            "text/plain": [
              "<IPython.lib.display.YouTubeVideo at 0x7f956e9dda50>"
            ]
          },
          "metadata": {
            "tags": []
          },
          "execution_count": 0
        }
      ]
    },
    {
      "cell_type": "markdown",
      "metadata": {
        "colab_type": "text",
        "id": "GJBs_flRovLc"
      },
      "source": [
        "## Getting Started\n",
        "\n",
        "The document you are reading is a  [Jupyter notebook](https://jupyter.org/), hosted in Colaboratory. It is not a static page, but an interactive environment that lets you write and execute code in Python and other languages.\n",
        "\n",
        "For example, here is a **code cell** with a short Python script that computes a value, stores it in a variable, and prints the result:"
      ]
    },
    {
      "cell_type": "code",
      "metadata": {
        "colab_type": "code",
        "id": "gJr_9dXGpJ05",
        "outputId": "5626194c-e802-4293-942d-2908885c3c1f",
        "colab": {
          "height": 35
        }
      },
      "source": [
        "seconds_in_a_day = 24 * 60 * 60\n",
        "seconds_in_a_day"
      ],
      "execution_count": 0,
      "outputs": [
        {
          "output_type": "execute_result",
          "data": {
            "text/plain": [
              "86400"
            ]
          },
          "metadata": {
            "tags": []
          },
          "execution_count": 0
        }
      ]
    },
    {
      "cell_type": "markdown",
      "metadata": {
        "colab_type": "text",
        "id": "2fhs6GZ4qFMx"
      },
      "source": [
        "To execute the code in the above cell, select it with a click and then either press the play button to the left of the code, or use the keyboard shortcut \"Command/Ctrl+Enter\".\n",
        "\n",
        "All cells modify the same global state, so variables that you define by executing a cell can be used in other cells:"
      ]
    },
    {
      "cell_type": "code",
      "metadata": {
        "colab_type": "code",
        "id": "-gE-Ez1qtyIA",
        "outputId": "8d2e4259-4682-4e19-b683-7b9087f28820",
        "colab": {
          "height": 35
        }
      },
      "source": [
        "seconds_in_a_week = 7 * seconds_in_a_day\n",
        "seconds_in_a_week"
      ],
      "execution_count": 0,
      "outputs": [
        {
          "output_type": "execute_result",
          "data": {
            "text/plain": [
              "604800"
            ]
          },
          "metadata": {
            "tags": []
          },
          "execution_count": 0
        }
      ]
    },
    {
      "cell_type": "markdown",
      "metadata": {
        "colab_type": "text",
        "id": "lSrWNr3MuFUS"
      },
      "source": [
        "For more information about working with Colaboratory notebooks, see [Overview of Colaboratory](/notebooks/basic_features_overview.ipynb).\n"
      ]
    },
    {
      "cell_type": "markdown",
      "metadata": {
        "colab_type": "text",
        "id": "-Rh3-Vt9Nev9"
      },
      "source": [
        "## More Resources\n",
        "\n",
        "Learn how to make the most of Python, Jupyter, Colaboratory, and related tools with these resources:\n",
        "\n",
        "### Working with Notebooks in Colaboratory\n",
        "- [Overview of Colaboratory](/notebooks/basic_features_overview.ipynb)\n",
        "- [Guide to Markdown](/notebooks/markdown_guide.ipynb)\n",
        "- [Importing libraries and installing dependencies](/notebooks/snippets/importing_libraries.ipynb)\n",
        "- [Saving and loading notebooks in GitHub](https://colab.research.google.com/github/googlecolab/colabtools/blob/master/notebooks/colab-github-demo.ipynb)\n",
        "- [Interactive forms](/notebooks/forms.ipynb)\n",
        "- [Interactive widgets](/notebooks/widgets.ipynb)\n",
        "- <img src=\"/img/new.png\" height=\"20px\" align=\"left\" hspace=\"4px\" alt=\"New\"></img>\n",
        " [TensorFlow 2 in Colab](/notebooks/tensorflow_version.ipynb)\n",
        "\n",
        "### Working with Data\n",
        "- [Loading data: Drive, Sheets, and Google Cloud Storage](/notebooks/io.ipynb) \n",
        "- [Charts: visualizing data](/notebooks/charts.ipynb)\n",
        "- [Getting started with BigQuery](/notebooks/bigquery.ipynb)\n",
        "\n",
        "### Machine Learning Crash Course\n",
        "These are a few of the notebooks from Google's online Machine Learning course. See the [full course website](https://developers.google.com/machine-learning/crash-course/) for more.\n",
        "- [Intro to Pandas](/notebooks/mlcc/intro_to_pandas.ipynb)\n",
        "- [Tensorflow concepts](/notebooks/mlcc/tensorflow_programming_concepts.ipynb)\n",
        "- [First steps with TensorFlow](/notebooks/mlcc/first_steps_with_tensor_flow.ipynb)\n",
        "- [Intro to neural nets](/notebooks/mlcc/intro_to_neural_nets.ipynb)\n",
        "- [Intro to sparse data and embeddings](/notebooks/mlcc/intro_to_sparse_data_and_embeddings.ipynb)\n",
        "\n",
        "### Using Accelerated Hardware\n",
        "- [TensorFlow with GPUs](/notebooks/gpu.ipynb)\n",
        "- [TensorFlow with TPUs](/notebooks/tpu.ipynb)"
      ]
    },
    {
      "cell_type": "markdown",
      "metadata": {
        "colab_type": "text",
        "id": "P-H6Lw1vyNNd"
      },
      "source": [
        "## Machine Learning Examples: Seedbank\n",
        "\n",
        "To see end-to-end examples of the interactive machine learning analyses that Colaboratory makes possible, check out the [Seedbank](https://research.google.com/seedbank/) project.\n",
        "\n",
        "A few featured examples:\n",
        "\n",
        "- [Neural Style Transfer](https://research.google.com/seedbank/seed/neural_style_transfer_with_tfkeras): Use deep learning to transfer style between images.\n",
        "- [EZ NSynth](https://research.google.com/seedbank/seed/ez_nsynth): Synthesize audio with WaveNet auto-encoders.\n",
        "- [Fashion MNIST with Keras and TPUs](https://research.google.com/seedbank/seed/fashion_mnist_with_keras_and_tpus): Classify fashion-related images with deep learning.\n",
        "- [DeepDream](https://research.google.com/seedbank/seed/deepdream): Produce DeepDream images from your own photos.\n",
        "- [Convolutional VAE](https://research.google.com/seedbank/seed/convolutional_vae): Create a generative model of handwritten digits."
      ]
    },
    {
      "cell_type": "code",
      "metadata": {
        "id": "cbokoi2kEltI",
        "colab_type": "code",
        "colab": {
          "base_uri": "https://localhost:8080/",
          "height": 34
        },
        "outputId": "7cf3743f-4f0a-41b7-b4a6-d7348c2be8a1"
      },
      "source": [
        "a=5\n",
        "print (a)\n"
      ],
      "execution_count": 2,
      "outputs": [
        {
          "output_type": "stream",
          "text": [
            "5\n"
          ],
          "name": "stdout"
        }
      ]
    },
    {
      "cell_type": "code",
      "metadata": {
        "id": "nmIfjZ1UFBme",
        "colab_type": "code",
        "colab": {
          "base_uri": "https://localhost:8080/",
          "height": 34
        },
        "outputId": "e91e85c5-101e-4ab2-fce3-c83e3e252d51"
      },
      "source": [
        "print (a)"
      ],
      "execution_count": 3,
      "outputs": [
        {
          "output_type": "stream",
          "text": [
            "5\n"
          ],
          "name": "stdout"
        }
      ]
    },
    {
      "cell_type": "code",
      "metadata": {
        "id": "ffdCWMthFI7S",
        "colab_type": "code",
        "colab": {
          "base_uri": "https://localhost:8080/",
          "height": 51
        },
        "outputId": "4c9b3895-ff26-4627-92c9-c01aa9b4d600"
      },
      "source": [
        "import numpy as np\n",
        "m = np.array([1,2,3,4.,5,6]) #4后面加个. 表示的是4.0\n",
        "print(m[3])\n",
        "n = np.array([[1,2,3,4,5,6],[10,20,30,40,50,60]])\n",
        "print(n[1][0])"
      ],
      "execution_count": 6,
      "outputs": [
        {
          "output_type": "stream",
          "text": [
            "4.0\n",
            "10\n"
          ],
          "name": "stdout"
        }
      ]
    },
    {
      "cell_type": "code",
      "metadata": {
        "id": "zB3TTgKzr8NH",
        "colab_type": "code",
        "colab": {
          "base_uri": "https://localhost:8080/",
          "height": 136
        },
        "outputId": "9ec36f26-d1c9-44ce-f895-a850ecff2f4e"
      },
      "source": [
        "import numpy as np\n",
        "m = np.array([1,2,3,4,5,6])\n",
        "m.shape = 3,2 #3行2列\n",
        "print (m)\n",
        "print('\\n')\n",
        "m = np.array([1,2,3,4,5,6])\n",
        "m.shape = 2,3\n",
        "print (m)\n"
      ],
      "execution_count": 13,
      "outputs": [
        {
          "output_type": "stream",
          "text": [
            "[[1 2]\n",
            " [3 4]\n",
            " [5 6]]\n",
            "\n",
            "\n",
            "[[1 2 3]\n",
            " [4 5 6]]\n"
          ],
          "name": "stdout"
        }
      ]
    },
    {
      "cell_type": "code",
      "metadata": {
        "id": "JyHYqVXCtyuZ",
        "colab_type": "code",
        "colab": {
          "base_uri": "https://localhost:8080/",
          "height": 187
        },
        "outputId": "41c8d7d1-6d98-4969-e26d-c9223778dbfb"
      },
      "source": [
        "m1=np.zeros(9) #输出9个0\n",
        "print(m1)\n",
        "m1.shape=3,3 \n",
        "print(m1) \n",
        "print(\"\\n\")\n",
        "m2=np.ones(9) #输出9个1\n",
        "print(m2)\n",
        "m2.shape=3,3 \n",
        "print(m2)"
      ],
      "execution_count": 16,
      "outputs": [
        {
          "output_type": "stream",
          "text": [
            "[0. 0. 0. 0. 0. 0. 0. 0. 0.]\n",
            "[[0. 0. 0.]\n",
            " [0. 0. 0.]\n",
            " [0. 0. 0.]]\n",
            "\n",
            "\n",
            "[1. 1. 1. 1. 1. 1. 1. 1. 1.]\n",
            "[[1. 1. 1.]\n",
            " [1. 1. 1.]\n",
            " [1. 1. 1.]]\n"
          ],
          "name": "stdout"
        }
      ]
    },
    {
      "cell_type": "code",
      "metadata": {
        "id": "lsVI0WOouemY",
        "colab_type": "code",
        "colab": {
          "base_uri": "https://localhost:8080/",
          "height": 357
        },
        "outputId": "1c62cab2-8c59-442f-c96b-ea94493edf7d"
      },
      "source": [
        "ru=np.random.uniform(low=-1.0,high=1.0,size=(10,10))\n",
        "print(ru)"
      ],
      "execution_count": 17,
      "outputs": [
        {
          "output_type": "stream",
          "text": [
            "[[-0.92426663  0.276797   -0.00821629 -0.02460737  0.52885248 -0.93053457\n",
            "  -0.71740936  0.74233494  0.10256415 -0.14956914]\n",
            " [ 0.18519057 -0.30881775 -0.06813742 -0.86002626  0.63606769  0.09429175\n",
            "  -0.91547938  0.03999327 -0.20142385 -0.12503892]\n",
            " [ 0.82180893  0.54878684 -0.41186703  0.76311025 -0.00509826 -0.40396313\n",
            "   0.31173075  0.96841272  0.11916359  0.94123293]\n",
            " [-0.23723308 -0.71298385  0.5600359   0.49734409 -0.83632552 -0.70291033\n",
            "  -0.27768333  0.09614308  0.19576145  0.57658802]\n",
            " [ 0.11327522  0.04497935 -0.57697084 -0.59951314  0.54344089  0.64499307\n",
            "   0.14179445 -0.77535448 -0.38498911  0.43893966]\n",
            " [-0.44942044  0.77874176  0.93998739 -0.86659887 -0.16883237  0.64700641\n",
            "  -0.8540218  -0.012717   -0.13979643  0.43545905]\n",
            " [-0.8646314   0.09445814  0.44123872  0.49906103 -0.04529997 -0.71948719\n",
            "   0.72041091 -0.45083127  0.71114995  0.63100944]\n",
            " [ 0.35257368 -0.74758315 -0.14596759 -0.04932527 -0.16289433 -0.7746205\n",
            "  -0.07068148 -0.33983022  0.2172944  -0.21164507]\n",
            " [ 0.02469144 -0.99499037 -0.98931845 -0.49115338 -0.87774136 -0.64096585\n",
            "   0.70418663 -0.51532814  0.96757427  0.34233809]\n",
            " [-0.83878505  0.12621024  0.56562775 -0.42357686 -0.28280186  0.40530779\n",
            "  -0.93886638 -0.18395282  0.62460303  0.2935061 ]]\n"
          ],
          "name": "stdout"
        }
      ]
    },
    {
      "cell_type": "code",
      "metadata": {
        "id": "3maq8fvMvPgI",
        "colab_type": "code",
        "colab": {}
      },
      "source": [
        "np.save('randmat',ru) #保存ru这个数组，然后命名为randmat\n"
      ],
      "execution_count": 0,
      "outputs": []
    },
    {
      "cell_type": "code",
      "metadata": {
        "id": "YZjb1QdwDjMP",
        "colab_type": "code",
        "colab": {
          "base_uri": "https://localhost:8080/",
          "height": 357
        },
        "outputId": "d70a1bf9-6012-4dc5-a1ad-9190bb93dcc9"
      },
      "source": [
        "w=np.load('randmat.npy') #读取文件 #npy是numpy文件的后缀\n",
        "print(w)"
      ],
      "execution_count": 22,
      "outputs": [
        {
          "output_type": "stream",
          "text": [
            "[[-0.92426663  0.276797   -0.00821629 -0.02460737  0.52885248 -0.93053457\n",
            "  -0.71740936  0.74233494  0.10256415 -0.14956914]\n",
            " [ 0.18519057 -0.30881775 -0.06813742 -0.86002626  0.63606769  0.09429175\n",
            "  -0.91547938  0.03999327 -0.20142385 -0.12503892]\n",
            " [ 0.82180893  0.54878684 -0.41186703  0.76311025 -0.00509826 -0.40396313\n",
            "   0.31173075  0.96841272  0.11916359  0.94123293]\n",
            " [-0.23723308 -0.71298385  0.5600359   0.49734409 -0.83632552 -0.70291033\n",
            "  -0.27768333  0.09614308  0.19576145  0.57658802]\n",
            " [ 0.11327522  0.04497935 -0.57697084 -0.59951314  0.54344089  0.64499307\n",
            "   0.14179445 -0.77535448 -0.38498911  0.43893966]\n",
            " [-0.44942044  0.77874176  0.93998739 -0.86659887 -0.16883237  0.64700641\n",
            "  -0.8540218  -0.012717   -0.13979643  0.43545905]\n",
            " [-0.8646314   0.09445814  0.44123872  0.49906103 -0.04529997 -0.71948719\n",
            "   0.72041091 -0.45083127  0.71114995  0.63100944]\n",
            " [ 0.35257368 -0.74758315 -0.14596759 -0.04932527 -0.16289433 -0.7746205\n",
            "  -0.07068148 -0.33983022  0.2172944  -0.21164507]\n",
            " [ 0.02469144 -0.99499037 -0.98931845 -0.49115338 -0.87774136 -0.64096585\n",
            "   0.70418663 -0.51532814  0.96757427  0.34233809]\n",
            " [-0.83878505  0.12621024  0.56562775 -0.42357686 -0.28280186  0.40530779\n",
            "  -0.93886638 -0.18395282  0.62460303  0.2935061 ]]\n"
          ],
          "name": "stdout"
        }
      ]
    },
    {
      "cell_type": "code",
      "metadata": {
        "id": "otHJCZVgEDrl",
        "colab_type": "code",
        "colab": {
          "base_uri": "https://localhost:8080/",
          "height": 1000
        },
        "outputId": "f7d9a811-a483-4bc5-fd46-e083e9a2c948"
      },
      "source": [
        "data=np.random.normal(5.0,2.0,size=1000) \n",
        "print(data)"
      ],
      "execution_count": 23,
      "outputs": [
        {
          "output_type": "stream",
          "text": [
            "[ 7.09488914  1.59909465  5.97410335  7.72466764  4.07691797  3.31932094\n",
            "  5.14839627  2.93731413  3.6770969   1.00161277  9.10193335  6.2143043\n",
            "  1.60091537  7.5333364   4.43666824  5.50128136 -0.16840356  7.40738324\n",
            "  6.73685435  5.18604076  3.75568248  5.80109379  7.18518563  3.9248421\n",
            "  3.30421073  4.09819996  5.29383856  3.40465741  3.64001001  4.92400624\n",
            "  5.12521675  3.25358137  2.67576215  4.59584436  6.21968812  3.52517512\n",
            "  3.83218163  0.69859036  7.27837788  3.57381441  6.22757936  5.63621061\n",
            "  5.38677732  4.51568794  8.09703782  7.38159653  5.6830567   6.01318044\n",
            "  4.3397617   5.4850017   9.65701565  4.83858177  3.66513303  5.61227972\n",
            "  7.03977248  7.10116777  1.31577775  7.4697581   6.33665092  6.15582576\n",
            "  3.30740412  3.89487183  7.98862355  2.34110049  4.20568575  6.37159801\n",
            "  2.95429352  5.89986406  4.80259106  2.77553192  5.23239725  0.37770714\n",
            "  3.59370649  5.9802438   5.98997496  5.92576922 11.30655639  6.99219675\n",
            "  5.28493639  5.60160045  6.66045692  5.39140951  1.4912094   3.18556613\n",
            "  7.32874213  4.09434203  8.25917443  1.93366549  2.19566347  3.285252\n",
            "  4.83326577  5.51054308  5.81772275  4.92332885  6.31769897  4.66949055\n",
            "  6.3446149   4.67754204 -1.06487805  1.46710813  5.37125153  0.84140399\n",
            "  2.53741019  7.18664438  5.23645907  5.63332796  5.98304291  6.73700719\n",
            "  4.44976264  3.02063111  7.05361352  2.21745946  2.71505436  3.18574276\n",
            "  6.35694883  5.4632368   7.64258516  2.13800951  1.95427017  6.50894934\n",
            "  2.36840358  2.61095261  5.92311372  3.1056708   4.42534699  6.27246547\n",
            "  4.82685277  7.43903338  7.11685831  5.83703331  3.88332198  1.96569\n",
            "  1.23333299  5.26319248  3.55096371  4.84477197  3.67508048  3.52162873\n",
            "  3.62814076  5.09573789  6.33429702  8.22465631  7.42783018  5.00990952\n",
            "  6.12945847  4.41645817  6.67980315  5.29356318  5.01124094  5.68616329\n",
            "  6.74040872  3.37319478 10.06608156  5.90989918  5.19931245  9.70298511\n",
            "  5.88161703  5.98218114  4.7753078   6.0811952   4.23911478  5.60818798\n",
            "  1.75713648  4.9679788   8.35409603  4.01944861  6.33561384  6.39891362\n",
            "  3.12699353  6.44284947  6.5342822   2.42536118  4.4140593   7.61147491\n",
            "  4.35595035  5.37789189  5.72330915  6.92424026  5.85871326  7.82443425\n",
            "  5.0135044   4.9227885   5.06349331  2.03254799  2.65703702  5.20345207\n",
            "  5.72786037  4.09971606  5.95800261  3.77132856  3.49328912  8.23798592\n",
            "  4.61557867  1.89711045  7.47935121  3.90749051  8.33152446  5.27394991\n",
            "  3.3667136   4.30533495  1.57036507  1.82059139  5.47243941  6.28777663\n",
            "  7.83699707  5.36123215  5.0431529   6.47015531  2.56384723  4.24084244\n",
            "  4.80538278  3.79049861  4.73180398  6.44516541  3.19960485  2.95286088\n",
            "  5.40862683  1.08784943  4.0529126   3.75043112  6.06686334  5.77994327\n",
            "  5.49741808  3.23681795  2.64916278  2.41296902  8.44703313  3.85639069\n",
            "  4.37470593  3.73468826  3.94909188  3.91874973  9.82233547  5.28744414\n",
            "  8.246081    5.95953874  8.01567357  5.46857214  4.17296074  5.41063529\n",
            "  4.01233878  3.62450194  6.34186106  5.86876226  4.18815999  4.77397004\n",
            "  4.97917269  3.81783471  4.36995005  2.57270041  3.8958859   3.54898376\n",
            "  7.4048712   6.33227986  4.35420561  3.19851161  5.73147009  2.18266061\n",
            "  5.32000417  2.16194338  1.00745467  7.24674223  8.85817434  6.95322225\n",
            "  5.44746022  2.73058774  7.49494321 -0.45853364  7.36640284  2.96360045\n",
            "  2.78080848  6.50536544  4.60019112  4.69186077  5.61811138  6.99438427\n",
            "  7.61586515  5.77853125  4.09571709  8.07011854  5.76471547  6.66541539\n",
            " 10.8226364   6.02192728  8.20584335  7.04633355  6.58629401 -0.03352425\n",
            "  4.47143238  8.64308861  2.98921618  4.9237104   6.46545634  7.07702898\n",
            "  0.56205744  3.32500766  6.26237727  6.38968803  7.22566233 -0.1522875\n",
            "  5.66111974  4.10140973  0.4532431   4.44334624  3.61783208  8.26770093\n",
            "  5.9494547   5.82198299  7.04668642  4.67581534  3.26372048  4.32955904\n",
            "  5.29410812  5.75922715  7.32646467  3.54545519  5.88503883  5.62977174\n",
            "  5.0360626   9.7399493   6.09232718  1.67130328  7.67278203  4.82284698\n",
            "  5.5031968   4.8436284   2.14439227  4.88162106  3.58655567  6.7688535\n",
            "  3.3376678   6.23674425  5.47129397  5.96642881  6.08195618  6.79529151\n",
            "  4.49885267  5.33138999  3.87041821  4.65256308  4.18876543  5.98636426\n",
            "  5.17411555  2.52021871  4.46085088  8.13258943  4.92618469  1.97395949\n",
            "  2.08802153  5.29867886 -0.1680285   2.84441693  4.26813491  6.23290224\n",
            "  7.68117973  2.30897745  4.05398968  5.64761214  4.74420404  5.30882701\n",
            "  4.86905915  5.56190175  5.10786719  7.33585482  4.98832924  6.9523185\n",
            "  4.09885099  4.07732146  6.73119376  6.59646235  7.11088325  6.30779424\n",
            "  6.17997005  1.99162495  7.93576634  5.78732112  3.85446728  4.61812383\n",
            "  4.3375408   3.88944273  3.72740523  7.52173161  3.90914979  4.9029969\n",
            "  3.918007    3.60596519  3.55275206  5.55395436  5.50487759  7.31402126\n",
            "  3.65544312  6.28098412  4.43345355  3.52517819  4.85030226  4.29642547\n",
            "  3.16647121  7.18433235  3.18565464  3.77205593  6.41172749  5.68247873\n",
            "  4.79365956  2.49859651  3.44617363  4.00700294  7.85861173  1.48551815\n",
            "  3.90273071  4.95572655  6.4858646   3.82111439  8.53295489  5.1645301\n",
            "  2.96640754  6.13886074  3.7900775   0.53907588  5.39255429  2.07741762\n",
            "  5.76428191  3.49588682  3.75850405  6.57933142  3.70865343  5.19583465\n",
            "  3.11742866  6.7270961   2.90569474  7.59907157  3.5042617   2.87030722\n",
            "  5.91820594  2.57508878  2.74009493  5.81061292  5.0151566   2.98610518\n",
            "  6.47728202  4.98191171  7.26077675  4.24666214  9.44417481  4.41646174\n",
            "  2.37932002  8.71148633  4.23340074  7.28408552  2.52009854  2.33760668\n",
            "  3.48593192  5.63047126  7.54220535  4.86444526  0.72776952  7.29272971\n",
            "  5.87780683  6.19871901  5.70117642  4.91423158  5.19494615  7.55110173\n",
            "  4.09453375  3.18871     3.67390692  2.08891169  4.06317854  4.73959204\n",
            "  5.70131963  6.13985649  7.21629355  7.60833539  4.14330504  8.53142998\n",
            "  5.67516735  5.73435308  6.71661925  2.83477908  5.72284598  7.5710736\n",
            "  7.97507819  5.08707762  9.84387223  2.11360474  3.70354532  4.1652136\n",
            "  4.68818756  7.87853353  7.65318265  2.55774665  4.06729535  8.55475767\n",
            "  3.06301782  3.79058668  4.86657723  3.78301425  3.42410271  8.56654371\n",
            "  6.51175143  7.55384977  4.17752541  6.73785267  6.29777379  5.46398471\n",
            "  3.35146871  5.31947551  2.33707095  5.55053744  5.92623292  3.71023273\n",
            "  5.60539575  7.97687322  3.61133262  6.6523509   1.68944311  6.51798465\n",
            "  3.0811779   4.14053512  7.02897824  7.31113911  7.11688535  7.5049304\n",
            "  5.10162841  2.91304133  5.20202292  6.26852155  7.34582536  4.62506507\n",
            "  3.6477265   5.03267708  4.76023758  7.71105225  4.90936645  6.74852649\n",
            "  6.68875763  5.48783729  6.10755038  3.1594717   4.55358455  5.55774354\n",
            "  7.91485652  8.66460373  7.26469916  6.14424773  6.51249034  2.03902967\n",
            "  1.44418813  7.35367918  8.67765885  5.37456727  4.20014363  7.6881786\n",
            "  7.36034217  2.68860056  5.04801449  6.55602348  3.49931752  5.69201714\n",
            "  6.46791896  5.16410926  4.68412401  6.23101987  5.70064577  3.15280741\n",
            "  4.44463907  5.78062415  7.23507134  5.94340797  3.56084142  9.13834667\n",
            "  4.7437063   6.22458624  4.7467215   3.82235622  4.80416073  2.67653965\n",
            "  6.56893299  6.55876022  1.50709168  2.33423672  6.31822657  4.80349767\n",
            "  5.05029152  9.34712113  2.61036414  4.90815623 12.40310878  7.68963834\n",
            "  3.44908918  6.6846542   4.77376093  3.76859197  6.5113032   3.38588586\n",
            "  7.6217945   1.81108874  5.22564162  6.08632987  4.89501098  2.89527668\n",
            "  5.87818229  5.98017339  8.64035215  4.75082792  6.32442907  4.30933873\n",
            "  4.4702612   4.47234545  5.55850187  8.62668796  3.61130278  6.84652606\n",
            "  4.31744521  5.25416468  2.90981479  3.11811259  5.69980968  6.82379278\n",
            "  4.15226782  1.30143461  5.07797909  8.74803065  6.13411563  5.47663993\n",
            "  4.39707802  8.3134252   3.4858798   6.58596399  6.0786798   6.33119794\n",
            "  3.61246909  6.10095201  6.00256535  5.65463908  6.56092304  8.07472379\n",
            "  4.52263838 10.18486781  2.05095484  3.5018677   8.59009027  5.98247028\n",
            "  9.32336022  6.13045734  3.46342091  3.62554292  3.24075269  6.83338534\n",
            "  5.95571417  7.35288265  1.34333375  5.80031689  3.42773967  7.78502378\n",
            "  5.42721329  4.3518231   3.99089069  2.3005125   0.68636643  5.36274447\n",
            "  7.16572149  6.6435523   9.01883406  5.15588868  4.78971143  4.57931725\n",
            "  7.12981401  5.49824493  3.43683617  1.63510993  3.95524278  6.17796785\n",
            "  4.37867588  9.89318687  4.83480403  3.80714825  4.41117888  3.27857489\n",
            "  2.35791005  4.51162445  6.9586906   3.82797613  4.69174341  3.14794093\n",
            "  5.01688178  5.70817663  1.91712801  7.54228415  5.81141097  4.50473736\n",
            "  2.97370978  3.88657282  7.52522983  5.45087318  2.45415191 -0.57027216\n",
            "  6.47714872  3.17145     7.62817813  5.57872634  6.26895707  6.0807516\n",
            "  7.55637732  3.7874412   5.50836974  8.61776984  8.0938617   4.95543907\n",
            "  6.57252409  6.42708043  6.47355656  0.86991669  0.87051139  4.74559154\n",
            "  4.23476243  3.97434527  0.60024797  4.95750663  5.06045877  5.63168517\n",
            "  3.68090549  4.10884944  7.77225585  6.3833212   3.88383641  5.28774832\n",
            "  7.59168899  6.36793737  1.38157463  6.12164507  5.7654507   3.17665857\n",
            "  3.63707249  2.33743765  1.20848638  6.10490255 11.08537226  4.62881008\n",
            "  5.79128463  5.43151932  9.23212178  6.71392569  5.60985199  6.16743916\n",
            "  5.0602745   2.92765466  2.99772173  3.53699834  6.35504247  3.74695979\n",
            "  5.24926072  7.51660106  5.86525143  4.24091031  5.38848713  9.27356826\n",
            "  3.88833217  8.31367856  1.50463431  3.29463934  7.43580447  4.81705862\n",
            "  4.83733669  3.95971654  3.14044817  2.24993083  5.13026088  6.85518991\n",
            "  0.19312464  7.46990124  4.14412745  2.5831877   7.0990378   4.14815664\n",
            "  6.67665939  3.02938515  5.08192939  7.01001742  6.60296105  5.90358931\n",
            "  2.94775557  7.55516958  7.62541951  6.62058072  4.83738617  2.44559543\n",
            "  8.49612122  2.72659077  6.07471289  7.86396338  5.40193498  3.35542409\n",
            "  5.30665069  3.59799375  5.29506867  9.19106629  4.4065175   4.16949536\n",
            "  1.30315935  7.21575777  4.96262892  8.57558316  6.05516867  8.57584592\n",
            "  3.63053889  7.45579952  4.19250049  3.62545676  4.73175761  2.49224872\n",
            "  7.4329658   1.71647804  1.47608913  7.92966496  4.1626225   4.33744149\n",
            "  4.11552683  7.15468654  2.774753    4.80929748  3.26599369  7.93732623\n",
            "  2.87898923  3.4898586   5.29975741  5.9008032   5.91426026  1.88540265\n",
            "  7.1355925   4.0929678   4.01170643  1.19163454  4.29790093  3.87058443\n",
            "  6.7170887   4.00262548  1.78935006  4.62075856  6.3172582   8.54955694\n",
            "  7.21506609  1.15439997  3.3492657   4.60281391  5.63541249  2.92734493\n",
            "  3.93624305  4.90852534  5.70687176  4.43142329  2.73059189  8.91654247\n",
            "  4.91801094  1.82124111  2.11204051  4.51211175  5.05126821  4.74472419\n",
            "  7.33389613  5.77570867  9.9734048   5.74256785  2.03648314  4.59149695\n",
            "  2.63886374  5.11467291  4.81522739  7.08540376  2.2785769   4.58800267\n",
            "  6.34328818  3.7198108   5.19515178  3.71259785  6.30232395  2.89250585\n",
            "  2.69879923  4.66914696  6.57328572  8.3171593   5.0030737   6.59954086\n",
            "  6.03382134  6.90983307  6.43652685 10.55348834  4.544373    6.27834988\n",
            "  2.23428871  5.5475295   6.33057567  4.48272371  6.62194508  3.04484734\n",
            "  4.92400471  9.96797914  7.97511457  3.36240975  3.78680675  2.69147367\n",
            "  5.1566302   4.86680403  8.10777985  7.23384337  4.85515677  8.52006453\n",
            "  5.05320119  4.74705093  4.63179019  3.17953555  5.35278599  0.8218\n",
            "  3.22298414  3.14255658  4.11522255  3.82597242  6.36049208 -1.33459992\n",
            "  6.75075046  2.19532191  4.66273304  5.40564034  5.50486158  1.52579598\n",
            "  1.59905195  2.06420302  3.06925978  3.47630069  3.92519538  9.53360419\n",
            "  6.77834289  0.11306472  2.99922407  6.72871586  7.47540781  4.74223856\n",
            "  5.60652757  9.47906062  6.20292114  6.0010792   4.30862339  3.45390254\n",
            "  2.73115977  4.66714892  2.98726121  5.15249066  5.05728648  5.89488048\n",
            "  5.86802093  6.82363572  5.17153721  6.44483536  1.2898979   3.75634008\n",
            "  8.69303357  6.87590481  3.42329846  5.78913642 11.28260091  7.47940788\n",
            "  4.02892309  4.66966321  7.20245905  5.70604361  1.63461454  7.22010932\n",
            "  7.40341426  5.80097507  7.63583525  4.52935538  1.82255622  6.09259587\n",
            "  5.99409656  8.14707736  2.26537803  7.49839936  4.49078438  4.77048591\n",
            "  1.5341568   8.44743457  5.17549707  6.89945969  5.18624435  6.44225321\n",
            "  6.00498748  5.3740165   3.50683111  1.81422952  8.80755183  4.86139393\n",
            "  5.36666434  5.02833181  3.34055129  8.32356185  6.05644779  3.83170684\n",
            "  6.63022435  2.86593745  2.84734523  2.12326947]\n"
          ],
          "name": "stdout"
        }
      ]
    },
    {
      "cell_type": "code",
      "metadata": {
        "id": "i4Zr7w_cFTiP",
        "colab_type": "code",
        "colab": {
          "base_uri": "https://localhost:8080/",
          "height": 51
        },
        "outputId": "92caffa6-2994-4cc5-bee5-91c89f3805fa"
      },
      "source": [
        "print(np.average(data))\n",
        "print(np.std(data))"
      ],
      "execution_count": 24,
      "outputs": [
        {
          "output_type": "stream",
          "text": [
            "5.063747466710049\n",
            "2.0493778110156256\n"
          ],
          "name": "stdout"
        }
      ]
    },
    {
      "cell_type": "code",
      "metadata": {
        "id": "G118EAinFh0P",
        "colab_type": "code",
        "colab": {
          "base_uri": "https://localhost:8080/",
          "height": 282
        },
        "outputId": "7cc5fc4c-3dfd-4dd4-d205-12b4740d84ac"
      },
      "source": [
        "import matplotlib.pyplot as plt \n",
        "hist, bin_edges = np.histogram(data) # 这幅图展示的是：0-9这10个数字，出现的次数（2.786899——>2）\n",
        "plt.plot(hist,'.')"
      ],
      "execution_count": 26,
      "outputs": [
        {
          "output_type": "execute_result",
          "data": {
            "text/plain": [
              "[<matplotlib.lines.Line2D at 0x7fc4bb547588>]"
            ]
          },
          "metadata": {
            "tags": []
          },
          "execution_count": 26
        },
        {
          "output_type": "display_data",
          "data": {
            "image/png": "[encoded data removed]",
            "text/plain": [
              "<Figure size 432x288 with 1 Axes>"
            ]
          },
          "metadata": {
            "tags": []
          }
        }
      ]
    },
    {
      "cell_type": "code",
      "metadata": {
        "id": "cvTp-tMWMTZk",
        "colab_type": "code",
        "colab": {
          "base_uri": "https://localhost:8080/",
          "height": 265
        },
        "outputId": "b6a860c8-f799-4a34-8101-52ec6ab3a3f6"
      },
      "source": [
        "mean = [0, 0]\n",
        "cov = [[1., 0.], [0., 100.]]\n",
        "x, y = np.random.multivariate_normal(mean, cov, 5000).T \n",
        "plt.plot(x, y, 'x')\n",
        "plt.axis('equal')\n",
        "plt.show()\n"
      ],
      "execution_count": 30,
      "outputs": [
        {
          "output_type": "display_data",
          "data": {
            "image/png": "[encoded data removed]",
            "text/plain": [
              "<Figure size 432x288 with 1 Axes>"
            ]
          },
          "metadata": {
            "tags": []
          }
        }
      ]
    },
    {
      "cell_type": "code",
      "metadata": {
        "id": "66XCFOLVNPkb",
        "colab_type": "code",
        "colab": {
          "base_uri": "https://localhost:8080/",
          "height": 51
        },
        "outputId": "0f389a4a-bcf2-4476-e9a6-6d271817a797"
      },
      "source": [
        "mat1 = np.array([1.,2.,3,4.,5.,6.,7.,8.,9.]) \n",
        "mat1.shape = 3,3\n",
        "vec1 = np.array([1.,0.,0.]) \n",
        "print(vec1.shape)\n",
        "print(mat1.dot(vec1))"
      ],
      "execution_count": 36,
      "outputs": [
        {
          "output_type": "stream",
          "text": [
            "(3,)\n",
            "[1. 4. 7.]\n"
          ],
          "name": "stdout"
        }
      ]
    },
    {
      "cell_type": "code",
      "metadata": {
        "id": "W0ZOwa64Nmru",
        "colab_type": "code",
        "colab": {
          "base_uri": "https://localhost:8080/",
          "height": 358
        },
        "outputId": "3533a0aa-4b71-45d2-c493-6ecb264fd106"
      },
      "source": [
        "matinv = np.linalg.inv(mat1) \n",
        "print(matinv.dot(mat1))"
      ],
      "execution_count": 37,
      "outputs": [
        {
          "output_type": "error",
          "ename": "LinAlgError",
          "evalue": "ignored",
          "traceback": [
            "\u001b[0;31m---------------------------------------------------------------------------\u001b[0m",
            "\u001b[0;31mLinAlgError\u001b[0m                               Traceback (most recent call last)",
            "\u001b[0;32m<ipython-input-37-bb63c4118003>\u001b[0m in \u001b[0;36m<module>\u001b[0;34m()\u001b[0m\n\u001b[0;32m----> 1\u001b[0;31m \u001b[0mmatinv\u001b[0m \u001b[0;34m=\u001b[0m \u001b[0mnp\u001b[0m\u001b[0;34m.\u001b[0m\u001b[0mlinalg\u001b[0m\u001b[0;34m.\u001b[0m\u001b[0minv\u001b[0m\u001b[0;34m(\u001b[0m\u001b[0mmat1\u001b[0m\u001b[0;34m)\u001b[0m\u001b[0;34m\u001b[0m\u001b[0;34m\u001b[0m\u001b[0m\n\u001b[0m\u001b[1;32m      2\u001b[0m \u001b[0mprint\u001b[0m\u001b[0;34m(\u001b[0m\u001b[0mmatinv\u001b[0m\u001b[0;34m.\u001b[0m\u001b[0mdot\u001b[0m\u001b[0;34m(\u001b[0m\u001b[0mmat1\u001b[0m\u001b[0;34m)\u001b[0m\u001b[0;34m)\u001b[0m\u001b[0;34m\u001b[0m\u001b[0;34m\u001b[0m\u001b[0m\n",
            "\u001b[0;32m<__array_function__ internals>\u001b[0m in \u001b[0;36minv\u001b[0;34m(*args, **kwargs)\u001b[0m\n",
            "\u001b[0;32m/usr/local/lib/python3.6/dist-packages/numpy/linalg/linalg.py\u001b[0m in \u001b[0;36minv\u001b[0;34m(a)\u001b[0m\n\u001b[1;32m    549\u001b[0m     \u001b[0msignature\u001b[0m \u001b[0;34m=\u001b[0m \u001b[0;34m'D->D'\u001b[0m \u001b[0;32mif\u001b[0m \u001b[0misComplexType\u001b[0m\u001b[0;34m(\u001b[0m\u001b[0mt\u001b[0m\u001b[0;34m)\u001b[0m \u001b[0;32melse\u001b[0m \u001b[0;34m'd->d'\u001b[0m\u001b[0;34m\u001b[0m\u001b[0;34m\u001b[0m\u001b[0m\n\u001b[1;32m    550\u001b[0m     \u001b[0mextobj\u001b[0m \u001b[0;34m=\u001b[0m \u001b[0mget_linalg_error_extobj\u001b[0m\u001b[0;34m(\u001b[0m\u001b[0m_raise_linalgerror_singular\u001b[0m\u001b[0;34m)\u001b[0m\u001b[0;34m\u001b[0m\u001b[0;34m\u001b[0m\u001b[0m\n\u001b[0;32m--> 551\u001b[0;31m     \u001b[0mainv\u001b[0m \u001b[0;34m=\u001b[0m \u001b[0m_umath_linalg\u001b[0m\u001b[0;34m.\u001b[0m\u001b[0minv\u001b[0m\u001b[0;34m(\u001b[0m\u001b[0ma\u001b[0m\u001b[0;34m,\u001b[0m \u001b[0msignature\u001b[0m\u001b[0;34m=\u001b[0m\u001b[0msignature\u001b[0m\u001b[0;34m,\u001b[0m \u001b[0mextobj\u001b[0m\u001b[0;34m=\u001b[0m\u001b[0mextobj\u001b[0m\u001b[0;34m)\u001b[0m\u001b[0;34m\u001b[0m\u001b[0;34m\u001b[0m\u001b[0m\n\u001b[0m\u001b[1;32m    552\u001b[0m     \u001b[0;32mreturn\u001b[0m \u001b[0mwrap\u001b[0m\u001b[0;34m(\u001b[0m\u001b[0mainv\u001b[0m\u001b[0;34m.\u001b[0m\u001b[0mastype\u001b[0m\u001b[0;34m(\u001b[0m\u001b[0mresult_t\u001b[0m\u001b[0;34m,\u001b[0m \u001b[0mcopy\u001b[0m\u001b[0;34m=\u001b[0m\u001b[0;32mFalse\u001b[0m\u001b[0;34m)\u001b[0m\u001b[0;34m)\u001b[0m\u001b[0;34m\u001b[0m\u001b[0;34m\u001b[0m\u001b[0m\n\u001b[1;32m    553\u001b[0m \u001b[0;34m\u001b[0m\u001b[0m\n",
            "\u001b[0;32m/usr/local/lib/python3.6/dist-packages/numpy/linalg/linalg.py\u001b[0m in \u001b[0;36m_raise_linalgerror_singular\u001b[0;34m(err, flag)\u001b[0m\n\u001b[1;32m     95\u001b[0m \u001b[0;34m\u001b[0m\u001b[0m\n\u001b[1;32m     96\u001b[0m \u001b[0;32mdef\u001b[0m \u001b[0m_raise_linalgerror_singular\u001b[0m\u001b[0;34m(\u001b[0m\u001b[0merr\u001b[0m\u001b[0;34m,\u001b[0m \u001b[0mflag\u001b[0m\u001b[0;34m)\u001b[0m\u001b[0;34m:\u001b[0m\u001b[0;34m\u001b[0m\u001b[0;34m\u001b[0m\u001b[0m\n\u001b[0;32m---> 97\u001b[0;31m     \u001b[0;32mraise\u001b[0m \u001b[0mLinAlgError\u001b[0m\u001b[0;34m(\u001b[0m\u001b[0;34m\"Singular matrix\"\u001b[0m\u001b[0;34m)\u001b[0m\u001b[0;34m\u001b[0m\u001b[0;34m\u001b[0m\u001b[0m\n\u001b[0m\u001b[1;32m     98\u001b[0m \u001b[0;34m\u001b[0m\u001b[0m\n\u001b[1;32m     99\u001b[0m \u001b[0;32mdef\u001b[0m \u001b[0m_raise_linalgerror_nonposdef\u001b[0m\u001b[0;34m(\u001b[0m\u001b[0merr\u001b[0m\u001b[0;34m,\u001b[0m \u001b[0mflag\u001b[0m\u001b[0;34m)\u001b[0m\u001b[0;34m:\u001b[0m\u001b[0;34m\u001b[0m\u001b[0;34m\u001b[0m\u001b[0m\n",
            "\u001b[0;31mLinAlgError\u001b[0m: Singular matrix"
          ]
        }
      ]
    },
    {
      "cell_type": "code",
      "metadata": {
        "id": "lC1VqWJ-OddH",
        "colab_type": "code",
        "colab": {
          "base_uri": "https://localhost:8080/",
          "height": 68
        },
        "outputId": "019ca390-5bd4-40d8-cb27-f62036c4c16c"
      },
      "source": [
        "vec1 = np.array([1,2,3]) \n",
        "#vec1.shape = 3,   （这句话可有可无）\n",
        "vec2 = np.array([900, 800, 700]) \n",
        "vec2.shape = 3, \n",
        "print(np.outer(vec1, vec2)) # outer 实现矩阵相乘\n"
      ],
      "execution_count": 45,
      "outputs": [
        {
          "output_type": "stream",
          "text": [
            "[[ 900  800  700]\n",
            " [1800 1600 1400]\n",
            " [2700 2400 2100]]\n"
          ],
          "name": "stdout"
        }
      ]
    },
    {
      "cell_type": "code",
      "metadata": {
        "id": "PtYF77gpO7G8",
        "colab_type": "code",
        "colab": {
          "base_uri": "https://localhost:8080/",
          "height": 34
        },
        "outputId": "04829357-e3dd-46c1-acfe-f18ab80ac4cf"
      },
      "source": [
        "mat1 = np.array([1.,2.,3,4.,5.,6.,7.,8.,9.]) \n",
        "mat1.shape = 3,3\n",
        "print(np.linalg.det(mat1))"
      ],
      "execution_count": 39,
      "outputs": [
        {
          "output_type": "stream",
          "text": [
            "0.0\n"
          ],
          "name": "stdout"
        }
      ]
    }
  ]
}